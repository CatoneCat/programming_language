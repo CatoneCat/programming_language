{
 "cells": [
  {
   "cell_type": "markdown",
   "metadata": {},
   "source": [
    "# Class"
   ]
  },
  {
   "cell_type": "markdown",
   "metadata": {},
   "source": [
    "类的三大特性：封装、继承、多态"
   ]
  },
  {
   "cell_type": "markdown",
   "metadata": {},
   "source": [
    "其中：多态  \n",
    "Python “鸭子类型”"
   ]
  },
  {
   "cell_type": "code",
   "execution_count": 1,
   "metadata": {
    "collapsed": true
   },
   "outputs": [],
   "source": [
    "class F1:\n",
    "    pass\n",
    "\n",
    "class S1(F1):\n",
    "    def show(self):\n",
    "        return ('S1.show')\n",
    "\n",
    "class S2(F1):\n",
    "    def show(self):\n",
    "        return ('S2.show')\n",
    "\n",
    "def func(object):\n",
    "    return (object.show())"
   ]
  },
  {
   "cell_type": "code",
   "execution_count": 2,
   "metadata": {
    "scrolled": true
   },
   "outputs": [
    {
     "name": "stdout",
     "output_type": "stream",
     "text": [
      "s1_obj: S1.show\n",
      "s2_obj: S2.show\n"
     ]
    }
   ],
   "source": [
    "s1_obj = S1()\n",
    "s2_obj = S2()\n",
    "print ('s1_obj:',func(s1_obj))\n",
    "print ('s2_obj:',func(s2_obj))"
   ]
  },
  {
   "cell_type": "markdown",
   "metadata": {},
   "source": [
    "类S1和S2都继承了类F1，因此在被func()调用的时候，他们是同一个类型  \n",
    "但S1使用的是S1.show()方法，而S2使用的是S2.show()方法"
   ]
  },
  {
   "cell_type": "markdown",
   "metadata": {},
   "source": [
    "## 类的成员"
   ]
  },
  {
   "cell_type": "markdown",
   "metadata": {},
   "source": [
    "类的成员可以分为三大类：字段、方法和属性  \n",
    "所有成员中，只有普通字段的内容保存对象中，即：根据此类创建了多少对象，在内存中就有多少个普通字段。  \n",
    "而其他的成员，则都是保存在类中，即：无论对象的多少，在内存中只创建一份。"
   ]
  },
  {
   "cell_type": "markdown",
   "metadata": {},
   "source": [
    "### 一、字段"
   ]
  },
  {
   "cell_type": "markdown",
   "metadata": {},
   "source": [
    "普通字段属于对象，静态字段属于类"
   ]
  },
  {
   "cell_type": "code",
   "execution_count": 3,
   "metadata": {
    "collapsed": true
   },
   "outputs": [],
   "source": [
    "class Province:\n",
    "    #静态字段\n",
    "    country = '中国'\n",
    "    \n",
    "    def __init__(self,name):\n",
    "        #普通字段\n",
    "        self.name = name"
   ]
  },
  {
   "cell_type": "code",
   "execution_count": 4,
   "metadata": {},
   "outputs": [
    {
     "data": {
      "text/plain": [
       "'江苏省'"
      ]
     },
     "execution_count": 4,
     "metadata": {},
     "output_type": "execute_result"
    }
   ],
   "source": [
    "#直接访问普通字段\n",
    "obj = Province('江苏省')\n",
    "obj.name"
   ]
  },
  {
   "cell_type": "code",
   "execution_count": 5,
   "metadata": {},
   "outputs": [
    {
     "data": {
      "text/plain": [
       "'中国'"
      ]
     },
     "execution_count": 5,
     "metadata": {},
     "output_type": "execute_result"
    }
   ],
   "source": [
    "#直接访问静态字段\n",
    "Province.country"
   ]
  },
  {
   "cell_type": "markdown",
   "metadata": {},
   "source": [
    "静态字段在内存中只保存一份  \n",
    "普通字段在每个对象中都要保存一份  \n",
    "应用场景： 通过类创建对象时，如果每个对象都具有相同的字段，那么就使用静态字段"
   ]
  },
  {
   "cell_type": "markdown",
   "metadata": {},
   "source": [
    "### 二、方法"
   ]
  },
  {
   "cell_type": "markdown",
   "metadata": {},
   "source": [
    "方法包括：普通方法、静态方法和类方法，三种方法在内存中都归属于类，区别在于调用方式不同。  \n",
    "\n",
    "普通方法：由对象调用；至少一个self参数；执行普通方法时，自动将调用该方法的对象赋值给self；  \n",
    "类方法：由类调用； 至少一个cls参数；执行类方法时，自动将调用该方法的类复制给cls；  \n",
    "静态方法：由类调用；无默认参数；"
   ]
  },
  {
   "cell_type": "code",
   "execution_count": 6,
   "metadata": {
    "collapsed": true
   },
   "outputs": [],
   "source": [
    "class Foo:\n",
    "    def ord_func(self):\n",
    "        \"\"\" 定义普通方法，至少有一个self参数 \"\"\"\n",
    "        # print self.name\n",
    "        return '普通方法'\n",
    "\n",
    "    @classmethod\n",
    "    def class_func(cls):\n",
    "        \"\"\" 定义类方法，至少有一个cls参数 \"\"\"\n",
    "        return '类方法'\n",
    "\n",
    "    @staticmethod\n",
    "    def static_func():\n",
    "        \"\"\" 定义静态方法 ，无默认参数\"\"\"\n",
    "        return '静态方法'"
   ]
  },
  {
   "cell_type": "code",
   "execution_count": 7,
   "metadata": {},
   "outputs": [
    {
     "data": {
      "text/plain": [
       "'普通方法'"
      ]
     },
     "execution_count": 7,
     "metadata": {},
     "output_type": "execute_result"
    }
   ],
   "source": [
    "# 调用普通方法\n",
    "f = Foo()\n",
    "f.ord_func()"
   ]
  },
  {
   "cell_type": "code",
   "execution_count": 8,
   "metadata": {},
   "outputs": [
    {
     "data": {
      "text/plain": [
       "'类方法'"
      ]
     },
     "execution_count": 8,
     "metadata": {},
     "output_type": "execute_result"
    }
   ],
   "source": [
    "# 调用类方法\n",
    "Foo.class_func()"
   ]
  },
  {
   "cell_type": "code",
   "execution_count": 9,
   "metadata": {
    "scrolled": true
   },
   "outputs": [
    {
     "data": {
      "text/plain": [
       "'静态方法'"
      ]
     },
     "execution_count": 9,
     "metadata": {},
     "output_type": "execute_result"
    }
   ],
   "source": [
    "# 调用静态方法\n",
    "Foo.static_func()"
   ]
  },
  {
   "cell_type": "markdown",
   "metadata": {},
   "source": [
    "相同点：对于所有的方法而言，均属于类（非对象）中，所以，在内存中也只保存一份。  \n",
    "不同点：方法调用者不同、调用方法时自动传入的参数不同。"
   ]
  },
  {
   "cell_type": "markdown",
   "metadata": {},
   "source": [
    "### 三、属性　"
   ]
  },
  {
   "cell_type": "markdown",
   "metadata": {},
   "source": [
    "#### 1、属性的基本使用"
   ]
  },
  {
   "cell_type": "code",
   "execution_count": 10,
   "metadata": {
    "collapsed": true
   },
   "outputs": [],
   "source": [
    "# 定义\n",
    "class Foo:\n",
    "    # 定义属性\n",
    "    @property\n",
    "    def prop(self):\n",
    "        return '属性'"
   ]
  },
  {
   "cell_type": "code",
   "execution_count": 11,
   "metadata": {},
   "outputs": [
    {
     "data": {
      "text/plain": [
       "'属性'"
      ]
     },
     "execution_count": 11,
     "metadata": {},
     "output_type": "execute_result"
    }
   ],
   "source": [
    "# 调用\n",
    "foo_obj = Foo()\n",
    "foo_obj.prop   #调用属性"
   ]
  },
  {
   "cell_type": "markdown",
   "metadata": {},
   "source": [
    "Python的属性的功能是：属性内部进行一系列的逻辑计算，最终将计算结果返回"
   ]
  },
  {
   "cell_type": "code",
   "execution_count": 12,
   "metadata": {
    "collapsed": true
   },
   "outputs": [],
   "source": [
    "#e.g.\n",
    "class Pager:\n",
    "    def __init__(self, current_page):\n",
    "        # 用户当前请求的页码（第一页、第二页...）\n",
    "        self.current_page = current_page\n",
    "        \n",
    "        # 每页默认显示10条数据\n",
    "        self.per_items = 10\n",
    "\n",
    "    @property\n",
    "    def start(self):\n",
    "        val = (self.current_page - 1) * self.per_items +1\n",
    "        return val\n",
    "\n",
    "    @property\n",
    "    def end(self):\n",
    "        val = self.current_page * self.per_items\n",
    "        return val"
   ]
  },
  {
   "cell_type": "code",
   "execution_count": 13,
   "metadata": {},
   "outputs": [
    {
     "data": {
      "text/plain": [
       "1"
      ]
     },
     "execution_count": 13,
     "metadata": {},
     "output_type": "execute_result"
    }
   ],
   "source": [
    "p = Pager(1)\n",
    "p.start "
   ]
  },
  {
   "cell_type": "code",
   "execution_count": 14,
   "metadata": {
    "scrolled": true
   },
   "outputs": [
    {
     "data": {
      "text/plain": [
       "10"
      ]
     },
     "execution_count": 14,
     "metadata": {},
     "output_type": "execute_result"
    }
   ],
   "source": [
    "p.end"
   ]
  },
  {
   "cell_type": "markdown",
   "metadata": {},
   "source": [
    "#### 2、属性的两种定义方式"
   ]
  },
  {
   "cell_type": "markdown",
   "metadata": {},
   "source": [
    "属性的定义有两种方式：  \n",
    "装饰器 即：在方法上应用装饰器  \n",
    "静态字段 即：在类中定义值为property对象的静态字段"
   ]
  },
  {
   "cell_type": "markdown",
   "metadata": {},
   "source": [
    "装饰器方式：在类的普通方法上应用@property装饰器  \n",
    "新式类，具有三种@property装饰器"
   ]
  },
  {
   "cell_type": "code",
   "execution_count": 15,
   "metadata": {
    "collapsed": true
   },
   "outputs": [],
   "source": [
    "class Goods():\n",
    "    def __init__(self):\n",
    "        # 原价\n",
    "        self.original_price = 100        \n",
    "        # 折扣\n",
    "        self.discount = 0.8\n",
    "\n",
    "    #创建属性\n",
    "    @property\n",
    "    def price(self):\n",
    "        # 实际价格 = 原价 * 折扣\n",
    "        new_price = self.original_price * self.discount\n",
    "        return new_price\n",
    "\n",
    "    #修改属性\n",
    "    @price.setter\n",
    "    def price(self, value):\n",
    "        self.original_price = value\n",
    "\n",
    "    #删除属性\n",
    "    @price.deleter\n",
    "    def price(self):\n",
    "        del self.original_price"
   ]
  },
  {
   "cell_type": "code",
   "execution_count": 16,
   "metadata": {},
   "outputs": [
    {
     "data": {
      "text/plain": [
       "80.0"
      ]
     },
     "execution_count": 16,
     "metadata": {},
     "output_type": "execute_result"
    }
   ],
   "source": [
    "obj = Goods()\n",
    "obj.price   # 获取商品价格"
   ]
  },
  {
   "cell_type": "code",
   "execution_count": 17,
   "metadata": {},
   "outputs": [
    {
     "data": {
      "text/plain": [
       "160.0"
      ]
     },
     "execution_count": 17,
     "metadata": {},
     "output_type": "execute_result"
    }
   ],
   "source": [
    "obj.price = 200    # 修改商品原价\n",
    "obj.price"
   ]
  },
  {
   "cell_type": "code",
   "execution_count": 18,
   "metadata": {
    "collapsed": true
   },
   "outputs": [],
   "source": [
    "del obj.price     # 删除商品原价"
   ]
  },
  {
   "cell_type": "markdown",
   "metadata": {},
   "source": [
    "### 类成员的修饰符"
   ]
  },
  {
   "cell_type": "markdown",
   "metadata": {
    "collapsed": true
   },
   "source": [
    "类的所有成员在上一步骤中已经做了详细的介绍，对于每一个类的成员而言都有两种形式：  \n",
    "公有成员，在任何地方都能访问  \n",
    "私有成员，只有在类的内部才能方法  \n",
    "私有成员和公有成员的定义不同：私有成员命名时，前两个字符是下划线。（特殊成员除外，例如： \\__init\\__、\\__call\\__、\\__dict\\__ 等）"
   ]
  },
  {
   "cell_type": "markdown",
   "metadata": {},
   "source": [
    "私有成员和公有成员的访问限制不同："
   ]
  },
  {
   "cell_type": "markdown",
   "metadata": {},
   "source": [
    "#### 静态字段 "
   ]
  },
  {
   "cell_type": "markdown",
   "metadata": {},
   "source": [
    "公有静态字段：类可以访问；类内部可以访问；派生类中可以访问  "
   ]
  },
  {
   "cell_type": "code",
   "execution_count": 19,
   "metadata": {
    "collapsed": true
   },
   "outputs": [],
   "source": [
    "class C:\n",
    "    name = \"公有静态字段\"\n",
    "    def func(self):\n",
    "        return C.name\n",
    " \n",
    "class D(C):\n",
    "    def show(self):\n",
    "        return C.name"
   ]
  },
  {
   "cell_type": "code",
   "execution_count": 20,
   "metadata": {},
   "outputs": [
    {
     "data": {
      "text/plain": [
       "'公有静态字段'"
      ]
     },
     "execution_count": 20,
     "metadata": {},
     "output_type": "execute_result"
    }
   ],
   "source": [
    "C.name         # 类访问"
   ]
  },
  {
   "cell_type": "code",
   "execution_count": 21,
   "metadata": {},
   "outputs": [
    {
     "data": {
      "text/plain": [
       "'公有静态字段'"
      ]
     },
     "execution_count": 21,
     "metadata": {},
     "output_type": "execute_result"
    }
   ],
   "source": [
    "obj = C()\n",
    "obj.func()     # 类内部可以访问"
   ]
  },
  {
   "cell_type": "code",
   "execution_count": 22,
   "metadata": {},
   "outputs": [
    {
     "data": {
      "text/plain": [
       "'公有静态字段'"
      ]
     },
     "execution_count": 22,
     "metadata": {},
     "output_type": "execute_result"
    }
   ],
   "source": [
    "obj_son = D()\n",
    "obj_son.show()   # 派生类中可以访问"
   ]
  },
  {
   "cell_type": "markdown",
   "metadata": {},
   "source": [
    "私有静态字段：仅类内部可以访问"
   ]
  },
  {
   "cell_type": "code",
   "execution_count": 23,
   "metadata": {
    "collapsed": true
   },
   "outputs": [],
   "source": [
    "class C:\n",
    "    __name = \"私有静态字段\"\n",
    "    def func(self):\n",
    "        return C.__name\n",
    "\n",
    "class D(C):\n",
    "    def show(self):\n",
    "        return C.__name"
   ]
  },
  {
   "cell_type": "code",
   "execution_count": 24,
   "metadata": {},
   "outputs": [
    {
     "data": {
      "text/plain": [
       "'私有静态字段'"
      ]
     },
     "execution_count": 24,
     "metadata": {},
     "output_type": "execute_result"
    }
   ],
   "source": [
    "obj = C()\n",
    "obj.func()     # 类内部可以访问     ==> 正确"
   ]
  },
  {
   "cell_type": "markdown",
   "metadata": {},
   "source": [
    "C.__name       # 类访问            ==> 错误"
   ]
  },
  {
   "cell_type": "markdown",
   "metadata": {
    "collapsed": true
   },
   "source": [
    "obj_son = D()\n",
    "obj_son.show() # 派生类中访问   ==> 错误"
   ]
  },
  {
   "cell_type": "markdown",
   "metadata": {},
   "source": [
    "#### 普通字段"
   ]
  },
  {
   "cell_type": "markdown",
   "metadata": {
    "collapsed": true
   },
   "source": [
    "公有普通字段：对象可以访问；类内部可以访问；派生类中可以访问"
   ]
  },
  {
   "cell_type": "code",
   "execution_count": 25,
   "metadata": {
    "collapsed": true
   },
   "outputs": [],
   "source": [
    "class C:\n",
    "    def __init__(self):\n",
    "        self.foo = \"公有字段\"\n",
    "\n",
    "    def func(self):\n",
    "        return self.foo   #类内部访问\n",
    "    \n",
    "class D(C):\n",
    "    def show(self):\n",
    "        return self.foo   #派生类中访问"
   ]
  },
  {
   "cell_type": "code",
   "execution_count": 26,
   "metadata": {},
   "outputs": [
    {
     "data": {
      "text/plain": [
       "'公有字段'"
      ]
     },
     "execution_count": 26,
     "metadata": {},
     "output_type": "execute_result"
    }
   ],
   "source": [
    "obj = C()\n",
    "obj.foo     # 通过对象访问"
   ]
  },
  {
   "cell_type": "code",
   "execution_count": 27,
   "metadata": {},
   "outputs": [
    {
     "data": {
      "text/plain": [
       "'公有字段'"
      ]
     },
     "execution_count": 27,
     "metadata": {},
     "output_type": "execute_result"
    }
   ],
   "source": [
    "obj.func()  # 类内部访问"
   ]
  },
  {
   "cell_type": "code",
   "execution_count": 28,
   "metadata": {},
   "outputs": [
    {
     "data": {
      "text/plain": [
       "'公有字段'"
      ]
     },
     "execution_count": 28,
     "metadata": {},
     "output_type": "execute_result"
    }
   ],
   "source": [
    "obj_son = D();\n",
    "obj_son.show()  # 派生类中访问"
   ]
  },
  {
   "cell_type": "markdown",
   "metadata": {},
   "source": [
    "私有普通字段：仅类内部可以访问"
   ]
  },
  {
   "cell_type": "code",
   "execution_count": 29,
   "metadata": {
    "collapsed": true
   },
   "outputs": [],
   "source": [
    "class C:\n",
    "    def __init__(self):\n",
    "        self.__foo = \"私有字段\"\n",
    "        \n",
    "    def func(self):\n",
    "        return self.__foo    #类内部访问\n",
    "\n",
    "class D(C):\n",
    "    def show(self):\n",
    "        return self.__foo    #派生类中访问"
   ]
  },
  {
   "cell_type": "code",
   "execution_count": 30,
   "metadata": {},
   "outputs": [
    {
     "data": {
      "text/plain": [
       "'私有字段'"
      ]
     },
     "execution_count": 30,
     "metadata": {},
     "output_type": "execute_result"
    }
   ],
   "source": [
    "obj = C()\n",
    "obj.func()  # 类内部访问        ==> 正确"
   ]
  },
  {
   "cell_type": "markdown",
   "metadata": {},
   "source": [
    "obj.__foo     # 通过对象访问    ==> 错误"
   ]
  },
  {
   "cell_type": "markdown",
   "metadata": {},
   "source": [
    "obj_son = D();\n",
    "obj_son.show()  # 派生类中访问  ==> 错误"
   ]
  },
  {
   "cell_type": "markdown",
   "metadata": {},
   "source": [
    "ps：如果想要强制访问私有字段，可以通过 【对象.\\_类名\\__私有字段明 】访问（如：obj.\\_C\\__foo），不建议强制访问私有成员。"
   ]
  },
  {
   "cell_type": "markdown",
   "metadata": {},
   "source": [
    "## 类的特殊成员"
   ]
  },
  {
   "cell_type": "markdown",
   "metadata": {},
   "source": [
    "Python中存在着一些具有特殊含义的成员，详情如下："
   ]
  },
  {
   "cell_type": "markdown",
   "metadata": {},
   "source": [
    "### 1.\\__doc\\__  \n",
    "表示类的描述信息"
   ]
  },
  {
   "cell_type": "code",
   "execution_count": 31,
   "metadata": {
    "collapsed": true
   },
   "outputs": [],
   "source": [
    "class Foo:\n",
    "    \"\"\"描述类信息,可以放置说明文档\"\"\"\n",
    "    \n",
    "def func(self):\n",
    "    pass"
   ]
  },
  {
   "cell_type": "code",
   "execution_count": 32,
   "metadata": {},
   "outputs": [
    {
     "data": {
      "text/plain": [
       "'描述类信息,可以放置说明文档'"
      ]
     },
     "execution_count": 32,
     "metadata": {},
     "output_type": "execute_result"
    }
   ],
   "source": [
    "Foo.__doc__"
   ]
  },
  {
   "cell_type": "markdown",
   "metadata": {},
   "source": [
    "### 2. \\__module\\__ 和 \\__class\\__\n",
    "\\__module\\__ 表示当前操作的对象在那个模块  \n",
    "\\__class\\__ 表示当前操作的对象的类是什么"
   ]
  },
  {
   "cell_type": "raw",
   "metadata": {},
   "source": [
    "lib/aa.py模块中：    \n",
    "class C:  \n",
    "    def __init__(self):  \n",
    "        self.name = 'wupeiqi'"
   ]
  },
  {
   "cell_type": "raw",
   "metadata": {},
   "source": [
    "from lib.aa import C  \n",
    "obj = C()  \n",
    "print obj.__module__     # 输出 lib.aa，即：输出模块  \n",
    "print obj.__class__      # 输出 lib.aa.C，即：输出类"
   ]
  },
  {
   "cell_type": "markdown",
   "metadata": {},
   "source": [
    "### 3. \\__init\\__\n",
    "构造方法，通过类创建对象时，自动触发执行。"
   ]
  },
  {
   "cell_type": "code",
   "execution_count": 33,
   "metadata": {
    "collapsed": true
   },
   "outputs": [],
   "source": [
    "class Foo:\n",
    "    def __init__(self, name):\n",
    "        self.name = name\n",
    "        self.age = 18"
   ]
  },
  {
   "cell_type": "markdown",
   "metadata": {},
   "source": [
    "### 4. \\__del\\__  \n",
    "析构方法，当对象在内存中被释放时，自动触发执行。"
   ]
  },
  {
   "cell_type": "markdown",
   "metadata": {},
   "source": [
    "注：此方法一般无须定义，因为Python是一门高级语言，程序员在使用时无需关心内存的分配和释放，因为此工作都是交给Python解释器来执行，所以，析构函数的调用是由解释器在进行垃圾回收时自动触发执行的。"
   ]
  },
  {
   "cell_type": "markdown",
   "metadata": {},
   "source": [
    "### 5. \\__call\\__  \n",
    "对象后面加括号，触发执行"
   ]
  },
  {
   "cell_type": "markdown",
   "metadata": {},
   "source": [
    "注：构造方法的执行是由创建对象触发的，即：对象 = 类名() ；  \n",
    "而对于 \\__call\\__ 方法的执行是由对象后加括号触发的，即：对象() 或者 类()()"
   ]
  },
  {
   "cell_type": "code",
   "execution_count": 34,
   "metadata": {
    "collapsed": true
   },
   "outputs": [],
   "source": [
    "class Foo:\n",
    "    def __init__(self):\n",
    "        pass\n",
    "    \n",
    "    def __call__(self, *args, **kwargs):\n",
    "        print ('__call__')"
   ]
  },
  {
   "cell_type": "code",
   "execution_count": 35,
   "metadata": {},
   "outputs": [
    {
     "name": "stdout",
     "output_type": "stream",
     "text": [
      "__call__\n"
     ]
    }
   ],
   "source": [
    "obj = Foo()  # 执行 __init__\n",
    "obj()       # 使用对象()执行 __call__"
   ]
  },
  {
   "cell_type": "code",
   "execution_count": 36,
   "metadata": {
    "scrolled": true
   },
   "outputs": [
    {
     "name": "stdout",
     "output_type": "stream",
     "text": [
      "__call__\n"
     ]
    }
   ],
   "source": [
    "Foo()()  # 使用类()()执行 __call__"
   ]
  },
  {
   "cell_type": "markdown",
   "metadata": {},
   "source": [
    "### 6. \\__dict\\__  \n",
    "返回类或对象中的所有成员  \n",
    "其中，类的普通字段属于对象；类中的静态字段和方法等属于类"
   ]
  },
  {
   "cell_type": "code",
   "execution_count": 37,
   "metadata": {
    "collapsed": true
   },
   "outputs": [],
   "source": [
    "class Province:\n",
    "    \"\"\"说明文档\"\"\"\n",
    "    country = 'China'\n",
    "    \n",
    "    def __init__(self, name, count):\n",
    "        self.name = name\n",
    "        self.count = count\n",
    "        \n",
    "    def func(self, *args, **kwargs):\n",
    "        return 'func'"
   ]
  },
  {
   "cell_type": "code",
   "execution_count": 38,
   "metadata": {},
   "outputs": [
    {
     "data": {
      "text/plain": [
       "mappingproxy({'__dict__': <attribute '__dict__' of 'Province' objects>,\n",
       "              '__doc__': '说明文档',\n",
       "              '__init__': <function __main__.Province.__init__>,\n",
       "              '__module__': '__main__',\n",
       "              '__weakref__': <attribute '__weakref__' of 'Province' objects>,\n",
       "              'country': 'China',\n",
       "              'func': <function __main__.Province.func>})"
      ]
     },
     "execution_count": 38,
     "metadata": {},
     "output_type": "execute_result"
    }
   ],
   "source": [
    "# 获取类的成员，即：静态字段、方法\n",
    "Province.__dict__"
   ]
  },
  {
   "cell_type": "code",
   "execution_count": 39,
   "metadata": {},
   "outputs": [
    {
     "data": {
      "text/plain": [
       "{'count': 10000, 'name': 'HeBei'}"
      ]
     },
     "execution_count": 39,
     "metadata": {},
     "output_type": "execute_result"
    }
   ],
   "source": [
    "obj1 = Province('HeBei',10000)\n",
    "obj1.__dict__    # 获取 对象obj1 的成员"
   ]
  },
  {
   "cell_type": "code",
   "execution_count": 40,
   "metadata": {},
   "outputs": [
    {
     "data": {
      "text/plain": [
       "{'count': 3888, 'name': 'HeNan'}"
      ]
     },
     "execution_count": 40,
     "metadata": {},
     "output_type": "execute_result"
    }
   ],
   "source": [
    "obj2 = Province('HeNan', 3888)\n",
    "obj2.__dict__   # 获取 对象obj2 的成员"
   ]
  },
  {
   "cell_type": "markdown",
   "metadata": {},
   "source": [
    "### 7. \\__str\\__  \n",
    "如果一个类中定义了__str__方法，那么在打印 对象 时，默认输出该方法的返回值"
   ]
  },
  {
   "cell_type": "code",
   "execution_count": 41,
   "metadata": {
    "collapsed": true
   },
   "outputs": [],
   "source": [
    "class Foo:\n",
    "    def __str__(self):\n",
    "        return '喵喵喵'"
   ]
  },
  {
   "cell_type": "code",
   "execution_count": 42,
   "metadata": {},
   "outputs": [
    {
     "name": "stdout",
     "output_type": "stream",
     "text": [
      "喵喵喵\n"
     ]
    }
   ],
   "source": [
    "obj = Foo()\n",
    "print (obj)"
   ]
  },
  {
   "cell_type": "markdown",
   "metadata": {},
   "source": [
    "### 8、\\__getitem\\__、\\__setitem\\__、\\__delitem\\__  \n",
    "用于索引操作，如字典。以上分别表示获取、设置、删除数据"
   ]
  },
  {
   "cell_type": "code",
   "execution_count": 53,
   "metadata": {
    "collapsed": true
   },
   "outputs": [],
   "source": [
    "class Foo(object):\n",
    "    def __getitem__(self, key):\n",
    "        return '__getitem__',key\n",
    "\n",
    "    def __setitem__(self, key, value):\n",
    "        print ('__setitem__',key,value)\n",
    "\n",
    "    def __delitem__(self, key):\n",
    "        print ('__delitem__',key)"
   ]
  },
  {
   "cell_type": "code",
   "execution_count": 54,
   "metadata": {},
   "outputs": [
    {
     "data": {
      "text/plain": [
       "('__getitem__', 'k1')"
      ]
     },
     "execution_count": 54,
     "metadata": {},
     "output_type": "execute_result"
    }
   ],
   "source": [
    "obj = Foo()\n",
    "result = obj['k1']      # 自动触发执行 __getitem__\n",
    "result"
   ]
  },
  {
   "cell_type": "code",
   "execution_count": 55,
   "metadata": {},
   "outputs": [
    {
     "name": "stdout",
     "output_type": "stream",
     "text": [
      "__setitem__ k2 喵喵喵\n"
     ]
    }
   ],
   "source": [
    "obj['k2'] = '喵喵喵'   # 自动触发执行 __setitem__"
   ]
  },
  {
   "cell_type": "code",
   "execution_count": 56,
   "metadata": {},
   "outputs": [
    {
     "name": "stdout",
     "output_type": "stream",
     "text": [
      "__delitem__ k1\n"
     ]
    }
   ],
   "source": [
    "del obj['k1']        # 自动触发执行 __delitem__"
   ]
  },
  {
   "cell_type": "markdown",
   "metadata": {},
   "source": [
    "### 9. \\__iter\\__  \n",
    "用于迭代器，之所以列表、字典、元组可以进行for循环，是因为类型内部定义了 __iter__"
   ]
  },
  {
   "cell_type": "code",
   "execution_count": 66,
   "metadata": {
    "collapsed": true
   },
   "outputs": [],
   "source": [
    "class Foo(object):\n",
    "    def __init__(self, sq):\n",
    "        self.sq = sq\n",
    "\n",
    "    def __iter__(self):\n",
    "        return iter(self.sq)"
   ]
  },
  {
   "cell_type": "code",
   "execution_count": 67,
   "metadata": {},
   "outputs": [
    {
     "name": "stdout",
     "output_type": "stream",
     "text": [
      "11\n",
      "22\n",
      "33\n",
      "44\n"
     ]
    }
   ],
   "source": [
    "obj = Foo([11,22,33,44])\n",
    "for i in obj:\n",
    "    print (i)"
   ]
  }
 ],
 "metadata": {
  "kernelspec": {
   "display_name": "Python 3",
   "language": "python",
   "name": "python3"
  },
  "language_info": {
   "codemirror_mode": {
    "name": "ipython",
    "version": 3
   },
   "file_extension": ".py",
   "mimetype": "text/x-python",
   "name": "python",
   "nbconvert_exporter": "python",
   "pygments_lexer": "ipython3",
   "version": "3.6.3"
  }
 },
 "nbformat": 4,
 "nbformat_minor": 2
}
